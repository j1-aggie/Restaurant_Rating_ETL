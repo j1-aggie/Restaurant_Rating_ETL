{
 "cells": [
  {
   "cell_type": "code",
   "execution_count": null,
   "metadata": {},
   "outputs": [],
   "source": [
    "# Import dependencies\n",
    "\n",
    "from bs4 import BeautifulSoup\n",
    "import requests"
   ]
  },
  {
   "cell_type": "code",
   "execution_count": null,
   "metadata": {},
   "outputs": [],
   "source": [
    "# URL of page to be scraped\n",
    "\n",
    "url = 'https://www.yelp.com/biz/napolis-wine-cafe-houston'"
   ]
  },
  {
   "cell_type": "code",
   "execution_count": null,
   "metadata": {},
   "outputs": [],
   "source": [
    "# Retrieve page with the requests module\n",
    "\n",
    "response = requests.get(url)\n"
   ]
  },
  {
   "cell_type": "code",
   "execution_count": null,
   "metadata": {},
   "outputs": [],
   "source": [
    "# Create BeautifulSoup object\n",
    "# Retrieve the raw HTML text that was scraped from the page.\n",
    "\n",
    "soup = BeautifulSoup(response.text, 'html parser')"
   ]
  },
  {
   "cell_type": "code",
   "execution_count": null,
   "metadata": {},
   "outputs": [],
   "source": [
    "# Examine the results, then determine elements that contain the information being sought.\n",
    "# May be easier to use Chrome's developer tools to inspect the page\n",
    "\n",
    "print(soup.prettify())"
   ]
  },
  {
   "cell_type": "code",
   "execution_count": null,
   "metadata": {},
   "outputs": [],
   "source": [
    "# Results are returned as an iterable list. After inspecting the structure of the HTML page, we have located the contents\n",
    "# that we are interested in, and we can now use BeautifulSoup to extract those elements.\n",
    "\n",
    "results = soup.find_all('li', class_='result-row')\n",
    "print(len(results))"
   ]
  },
  {
   "cell_type": "code",
   "execution_count": null,
   "metadata": {},
   "outputs": [],
   "source": [
    "# Examine one of the results.\n",
    "\n",
    "print(results[0].prettify())"
   ]
  },
  {
   "cell_type": "code",
   "execution_count": null,
   "metadata": {},
   "outputs": [],
   "source": [
    "# Loop through returned results: Error handling is used so the code can continue to scrap even if one of my attributes \n",
    "# are not available.\n",
    "\n",
    "    # Error handling\n",
    "    try:\n",
    "        # Identify and return name of restaurant\n",
    "        name = result.find('a', class_='result-name').text\n",
    "        \n",
    "        # Identify and return address of restaurant\n",
    "        address = result.find('a', class_='result-address').text\n",
    "        \n",
    "        # Identify and return total reviews of restaurant\n",
    "        total_reviews = result.find('span', class_='result-total_reviews').text\n",
    "        \n",
    "        # Identify and return ratings of restaurant\n",
    "        ratings = result.find('span', class_='result-total_reviews').text\n",
    "        \n",
    "        \n",
    "        \n",
    "        "
   ]
  },
  {
   "cell_type": "code",
   "execution_count": null,
   "metadata": {},
   "outputs": [],
   "source": []
  }
 ],
 "metadata": {
  "kernelspec": {
   "display_name": "Python 3",
   "language": "python",
   "name": "python3"
  },
  "language_info": {
   "codemirror_mode": {
    "name": "ipython",
    "version": 3
   },
   "file_extension": ".py",
   "mimetype": "text/x-python",
   "name": "python",
   "nbconvert_exporter": "python",
   "pygments_lexer": "ipython3",
   "version": "3.7.6"
  }
 },
 "nbformat": 4,
 "nbformat_minor": 4
}
