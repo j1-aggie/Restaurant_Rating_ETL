{
 "cells": [
  {
   "cell_type": "code",
   "execution_count": 3,
   "metadata": {},
   "outputs": [],
   "source": [
    "# Import dependencies\n",
    "\n",
    "from splinter import Browser\n",
    "from bs4 import BeautifulSoup\n",
    "import requests\n",
    "import pandas as pd"
   ]
  },
  {
   "cell_type": "code",
   "execution_count": 4,
   "metadata": {},
   "outputs": [
    {
     "name": "stdout",
     "output_type": "stream",
     "text": [
      "https://www.yelp.com/search?find_desc=Murphy's Deli&find_loc=2800 Post Oak Blvd\n"
     ]
    }
   ],
   "source": [
    "# URL of page to be scraped\n",
    "\n",
    "name = \"Murphy's Deli\"\n",
    "address = \"2800 Post Oak Blvd\"\n",
    "\n",
    "url = (f'https://www.yelp.com/search?find_desc={name}&find_loc={address}')\n",
    "print(url)\n"
   ]
  },
  {
   "cell_type": "code",
   "execution_count": 6,
   "metadata": {},
   "outputs": [],
   "source": [
    "# Retrieve page with the requests.get module\n",
    "\n",
    "response = requests.get(url)\n"
   ]
  },
  {
   "cell_type": "code",
   "execution_count": 35,
   "metadata": {},
   "outputs": [],
   "source": [
    "# Create BeautifulSoup object - 'soup'\n",
    "# to retrieve the raw HTML text that was scraped from the page.\n",
    "\n",
    "soup = BeautifulSoup(response.text, 'html5lib')"
   ]
  },
  {
   "cell_type": "code",
   "execution_count": 36,
   "metadata": {
    "scrolled": true
   },
   "outputs": [],
   "source": [
    "# Examine the results, then determine elements that contain the information being sought.\n",
    "# May be easier to use Chrome's developer tools to inspect the page\n",
    "\n",
    "# print(soup.prettify())"
   ]
  },
  {
   "cell_type": "code",
   "execution_count": 37,
   "metadata": {},
   "outputs": [
    {
     "name": "stdout",
     "output_type": "stream",
     "text": [
      "59\n"
     ]
    }
   ],
   "source": [
    "# Results are returned as an iterable list. After inspecting the structure of the HTML page, we have located the contents\n",
    "# that we are interested in, and we can now use BeautifulSoup to extract those elements.\n",
    "\n",
    "results = soup.find_all('li', class_='lemon--li__09f24__1r9wz')\n",
    "print(len(results))"
   ]
  },
  {
   "cell_type": "code",
   "execution_count": 38,
   "metadata": {},
   "outputs": [
    {
     "data": {
      "text/plain": [
       "<title data-rh=\"true\">Murphy's Deli 2800 Post Oak Blvd, Houston, TX - Last Updated October 2020 - Yelp</title>"
      ]
     },
     "execution_count": 38,
     "metadata": {},
     "output_type": "execute_result"
    }
   ],
   "source": [
    "soup.title"
   ]
  },
  {
   "cell_type": "code",
   "execution_count": 39,
   "metadata": {},
   "outputs": [],
   "source": [
    "# Examine one of the results.\n",
    "\n",
    "# print(results)"
   ]
  },
  {
   "cell_type": "code",
   "execution_count": 40,
   "metadata": {},
   "outputs": [
    {
     "data": {
      "text/html": [
       "<div>\n",
       "<style scoped>\n",
       "    .dataframe tbody tr th:only-of-type {\n",
       "        vertical-align: middle;\n",
       "    }\n",
       "\n",
       "    .dataframe tbody tr th {\n",
       "        vertical-align: top;\n",
       "    }\n",
       "\n",
       "    .dataframe thead th {\n",
       "        text-align: right;\n",
       "    }\n",
       "</style>\n",
       "<table border=\"1\" class=\"dataframe\">\n",
       "  <thead>\n",
       "    <tr style=\"text-align: right;\">\n",
       "      <th></th>\n",
       "      <th>listing</th>\n",
       "      <th>name</th>\n",
       "      <th>total ratings</th>\n",
       "      <th>price level</th>\n",
       "    </tr>\n",
       "  </thead>\n",
       "  <tbody>\n",
       "    <tr>\n",
       "      <th>0</th>\n",
       "      <td>0</td>\n",
       "      <td>Murphy’s Deli</td>\n",
       "      <td>29</td>\n",
       "      <td>$</td>\n",
       "    </tr>\n",
       "    <tr>\n",
       "      <th>1</th>\n",
       "      <td>1</td>\n",
       "      <td>Murphy’s Deli</td>\n",
       "      <td>2</td>\n",
       "      <td>$</td>\n",
       "    </tr>\n",
       "    <tr>\n",
       "      <th>2</th>\n",
       "      <td>2</td>\n",
       "      <td>Murphy’s Deli</td>\n",
       "      <td>33</td>\n",
       "      <td>$</td>\n",
       "    </tr>\n",
       "    <tr>\n",
       "      <th>3</th>\n",
       "      <td>3</td>\n",
       "      <td>Murphy’s Deli</td>\n",
       "      <td>10</td>\n",
       "      <td>$</td>\n",
       "    </tr>\n",
       "    <tr>\n",
       "      <th>4</th>\n",
       "      <td>4</td>\n",
       "      <td>Murphy’s Deli</td>\n",
       "      <td>11</td>\n",
       "      <td>$$</td>\n",
       "    </tr>\n",
       "    <tr>\n",
       "      <th>5</th>\n",
       "      <td>5</td>\n",
       "      <td>Murphy’s Deli</td>\n",
       "      <td>11</td>\n",
       "      <td>$$</td>\n",
       "    </tr>\n",
       "    <tr>\n",
       "      <th>6</th>\n",
       "      <td>6</td>\n",
       "      <td>Murphy’s Deli</td>\n",
       "      <td>3</td>\n",
       "      <td>$</td>\n",
       "    </tr>\n",
       "    <tr>\n",
       "      <th>7</th>\n",
       "      <td>7</td>\n",
       "      <td>Murphy’s Deli</td>\n",
       "      <td>13</td>\n",
       "      <td>$</td>\n",
       "    </tr>\n",
       "  </tbody>\n",
       "</table>\n",
       "</div>"
      ],
      "text/plain": [
       "   listing            name total ratings price level\n",
       "0        0   Murphy’s Deli            29           $\n",
       "1        1   Murphy’s Deli             2           $\n",
       "2        2   Murphy’s Deli            33           $\n",
       "3        3   Murphy’s Deli            10           $\n",
       "4        4   Murphy’s Deli            11          $$\n",
       "5        5   Murphy’s Deli            11          $$\n",
       "6        6   Murphy’s Deli             3           $\n",
       "7        7   Murphy’s Deli            13           $"
      ]
     },
     "execution_count": 40,
     "metadata": {},
     "output_type": "execute_result"
    }
   ],
   "source": [
    "restaurant = []\n",
    "i = 0\n",
    "for result in results:\n",
    "    \n",
    "    try:\n",
    "        rating = result.find('div', class_='lemon--div__09f24__1mboc container__09f24__21w3G hoverable__09f24__2nTf3 margin-t3__09f24__5bM2Z margin-b3__09f24__1DQ9x padding-t3__09f24__-R_5x padding-r3__09f24__1pBFG padding-b3__09f24__1vW6j padding-l3__09f24__1yCJf border--top__09f24__1H_WE border--right__09f24__28idl border--bottom__09f24__2FjZW border--left__09f24__33iol border-color--default__09f24__R1nRO')\n",
    "        \n",
    "        for rate in rating:\n",
    "            business = {}\n",
    "            business['listing'] = i\n",
    "            name = rate.find('span', class_='lemon--span__09f24__3997G').text\n",
    "            s = name.split('.') \n",
    "            business['name'] = s[1]\n",
    "            business['total ratings'] = rate.find('span', class_='lemon--span__09f24__3997G text__09f24__2tZKC reviewCount__09f24__EUXPN text-color--black-extra-light__09f24__38DtK text-align--left__09f24__3Drs0').text\n",
    "            business['price level'] = rate.find('span', class_=\"lemon--span__09f24__3997G text__09f24__2tZKC priceRange__09f24__2O6le text-color--black-extra-light__09f24__38DtK text-align--left__09f24__3Drs0 text-bullet--after__09f24__1MWoX\").text\n",
    "            restaurant.append(business)\n",
    "            i+=1\n",
    "            \n",
    "    except (AttributeError, TypeError, IndexError):\n",
    "        continue\n",
    "    \n",
    "df_restaurant = pd.DataFrame(restaurant)\n",
    "df_restaurant"
   ]
  },
  {
   "cell_type": "code",
   "execution_count": null,
   "metadata": {},
   "outputs": [],
   "source": []
  }
 ],
 "metadata": {
  "kernelspec": {
   "display_name": "Python 3",
   "language": "python",
   "name": "python3"
  },
  "language_info": {
   "codemirror_mode": {
    "name": "ipython",
    "version": 3
   },
   "file_extension": ".py",
   "mimetype": "text/x-python",
   "name": "python",
   "nbconvert_exporter": "python",
   "pygments_lexer": "ipython3",
   "version": "3.7.6"
  }
 },
 "nbformat": 4,
 "nbformat_minor": 4
}
