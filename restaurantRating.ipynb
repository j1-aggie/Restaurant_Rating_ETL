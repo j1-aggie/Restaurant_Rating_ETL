{
 "cells": [
  {
   "cell_type": "markdown",
   "metadata": {},
   "source": [
    "# resaurantRating\n",
    "\n",
    "## ETL Group Project\n",
    "\n",
    "    Germaine Johnson, Jeremy Jones, Reza Abasaltian\n",
    "    October 27, 2020\n",
    "\n",
    "### Google Places API - Text Search"
   ]
  },
  {
   "cell_type": "code",
   "execution_count": 1,
   "metadata": {},
   "outputs": [
    {
     "name": "stdout",
     "output_type": "stream",
     "text": [
      "Today is 10/23/20 @ 1800 hour.\n"
     ]
    }
   ],
   "source": [
    "# Import dependencies\n",
    "import requests\n",
    "from pprint import pprint\n",
    "import pandas as pd\n",
    "from datetime import datetime, timedelta\n",
    "\n",
    "# Google developer API key\n",
    "from api_key import gkey\n",
    "\n",
    "# Set today as current date and time\n",
    "t = datetime.now()\n",
    "\n",
    "# Print todays date formatted as mm/dd/yy\n",
    "date = t.strftime('%m/%d/%y')\n",
    "\n",
    "# format time to round to the nearest hour in hundreds\n",
    "time = (t.replace(second=0, microsecond=0, minute=0, hour=t.hour)\n",
    "                        + timedelta(hours=t.minute//30))\n",
    "hour = time.strftime('%H'+'00')\n",
    "\n",
    "print(f'Today is {date} @ {hour} hour.')"
   ]
  },
  {
   "cell_type": "code",
   "execution_count": 2,
   "metadata": {},
   "outputs": [],
   "source": [
    "# assign zip code for the base of our search\n",
    "target_zip = \"77056\"\n",
    "\n",
    "# distance, IN METERS, within which the place results must live from assigned zip code\n",
    "target_radius = 11111\n",
    "\n",
    "# type of establishment to filter place results\n",
    "target_type = \"restaurant\""
   ]
  },
  {
   "cell_type": "code",
   "execution_count": 3,
   "metadata": {},
   "outputs": [],
   "source": [
    "# base url\n",
    "base_url = \"https://maps.googleapis.com/maps/api/place/textsearch/json\""
   ]
  },
  {
   "cell_type": "code",
   "execution_count": 4,
   "metadata": {},
   "outputs": [
    {
     "name": "stdout",
     "output_type": "stream",
     "text": [
      "first response: 200\n"
     ]
    }
   ],
   "source": [
    "# set up a dictionary to store all query parameters - for initial page and first 20 listings\n",
    "params = {\n",
    "    \"query\": target_zip,\n",
    "    \"radius\": target_radius,\n",
    "    \"type\": target_type,\n",
    "    \"key\": gkey\n",
    "}\n",
    "\n",
    "# run a request using our params dictionary\n",
    "response = requests.get(base_url, params=params)\n",
    "\n",
    "# print the response status code\n",
    "print(f'first response: {response.status_code}')"
   ]
  },
  {
   "cell_type": "code",
   "execution_count": 5,
   "metadata": {},
   "outputs": [],
   "source": [
    "# convert the response to json\n",
    "response_json = response.json()"
   ]
  },
  {
   "cell_type": "code",
   "execution_count": 6,
   "metadata": {},
   "outputs": [
    {
     "name": "stdout",
     "output_type": "stream",
     "text": [
      "Total restaurant listings retrieved on first response: 0\n"
     ]
    }
   ],
   "source": [
    "print(f'Total {target_type} listings retrieved on first response: {len(response_json[\"results\"])}')"
   ]
  },
  {
   "cell_type": "code",
   "execution_count": 7,
   "metadata": {},
   "outputs": [
    {
     "ename": "KeyError",
     "evalue": "'next_page_token'",
     "output_type": "error",
     "traceback": [
      "\u001b[1;31m---------------------------------------------------------------------------\u001b[0m",
      "\u001b[1;31mKeyError\u001b[0m                                  Traceback (most recent call last)",
      "\u001b[1;32m<ipython-input-7-94d89ebc1763>\u001b[0m in \u001b[0;36m<module>\u001b[1;34m\u001b[0m\n\u001b[0;32m      5\u001b[0m     \u001b[1;34m\"type\"\u001b[0m\u001b[1;33m:\u001b[0m \u001b[0mtarget_type\u001b[0m\u001b[1;33m,\u001b[0m\u001b[1;33m\u001b[0m\u001b[1;33m\u001b[0m\u001b[0m\n\u001b[0;32m      6\u001b[0m     \u001b[1;34m\"key\"\u001b[0m\u001b[1;33m:\u001b[0m \u001b[0mgkey\u001b[0m\u001b[1;33m,\u001b[0m\u001b[1;33m\u001b[0m\u001b[1;33m\u001b[0m\u001b[0m\n\u001b[1;32m----> 7\u001b[1;33m     \u001b[1;34m\"pagetoken\"\u001b[0m\u001b[1;33m:\u001b[0m \u001b[0mresponse_json\u001b[0m\u001b[1;33m[\u001b[0m\u001b[1;34m'next_page_token'\u001b[0m\u001b[1;33m]\u001b[0m\u001b[1;33m\u001b[0m\u001b[1;33m\u001b[0m\u001b[0m\n\u001b[0m\u001b[0;32m      8\u001b[0m }\n\u001b[0;32m      9\u001b[0m \u001b[1;33m\u001b[0m\u001b[0m\n",
      "\u001b[1;31mKeyError\u001b[0m: 'next_page_token'"
     ]
    }
   ],
   "source": [
    "# set up a dictionary to store all query parameters - next page and next 20 listings, second response\n",
    "params = {\n",
    "    \"query\": target_zip,\n",
    "    \"radius\": target_radius,\n",
    "    \"type\": target_type,\n",
    "    \"key\": gkey,\n",
    "    \"pagetoken\": response_json['next_page_token']\n",
    "}\n",
    "\n",
    "# run a request using our params dictionary\n",
    "response2 = requests.get(base_url, params=params)\n",
    "\n",
    "# print the response status code\n",
    "print(f'second response: {response2.status_code}')\n",
    "\n",
    "# convert the response to json\n",
    "response_json2 = response2.json()"
   ]
  },
  {
   "cell_type": "code",
   "execution_count": 8,
   "metadata": {},
   "outputs": [
    {
     "ename": "NameError",
     "evalue": "name 'response_json2' is not defined",
     "output_type": "error",
     "traceback": [
      "\u001b[1;31m---------------------------------------------------------------------------\u001b[0m",
      "\u001b[1;31mNameError\u001b[0m                                 Traceback (most recent call last)",
      "\u001b[1;32m<ipython-input-8-964bf5367268>\u001b[0m in \u001b[0;36m<module>\u001b[1;34m\u001b[0m\n\u001b[0;32m      5\u001b[0m     \u001b[1;34m\"type\"\u001b[0m\u001b[1;33m:\u001b[0m \u001b[0mtarget_type\u001b[0m\u001b[1;33m,\u001b[0m\u001b[1;33m\u001b[0m\u001b[1;33m\u001b[0m\u001b[0m\n\u001b[0;32m      6\u001b[0m     \u001b[1;34m\"key\"\u001b[0m\u001b[1;33m:\u001b[0m \u001b[0mgkey\u001b[0m\u001b[1;33m,\u001b[0m\u001b[1;33m\u001b[0m\u001b[1;33m\u001b[0m\u001b[0m\n\u001b[1;32m----> 7\u001b[1;33m     \u001b[1;34m\"pagetoken\"\u001b[0m\u001b[1;33m:\u001b[0m \u001b[0mresponse_json2\u001b[0m\u001b[1;33m[\u001b[0m\u001b[1;34m'next_page_token'\u001b[0m\u001b[1;33m]\u001b[0m\u001b[1;33m\u001b[0m\u001b[1;33m\u001b[0m\u001b[0m\n\u001b[0m\u001b[0;32m      8\u001b[0m }\n\u001b[0;32m      9\u001b[0m \u001b[1;33m\u001b[0m\u001b[0m\n",
      "\u001b[1;31mNameError\u001b[0m: name 'response_json2' is not defined"
     ]
    }
   ],
   "source": [
    "# set up a dictionary to store all query parameters - next page and next 20 listings, third response\n",
    "params = {\n",
    "    \"query\": target_zip,\n",
    "    \"radius\": target_radius,\n",
    "    \"type\": target_type,\n",
    "    \"key\": gkey,\n",
    "    \"pagetoken\": response_json2['next_page_token']\n",
    "}\n",
    "\n",
    "# run a request using our params dictionary\n",
    "response3 = requests.get(base_url, params=params)\n",
    "\n",
    "# print the response status code\n",
    "print(f'third response: {response3.status_code}')\n",
    "\n",
    "# convert the response to json\n",
    "response_json3 = response3.json()"
   ]
  },
  {
   "cell_type": "code",
   "execution_count": 9,
   "metadata": {},
   "outputs": [],
   "source": [
    "def getPlaces(response_json, i, date, hour):\n",
    "    places = []\n",
    "    for result in response_json['results']:\n",
    "        place = {}\n",
    "        try:\n",
    "            place['id'] = i\n",
    "            place['name'] = result['name']\n",
    "            address = result['formatted_address']\n",
    "            s = address.split(', ')\n",
    "            s2 = s[2].split(' ')   \n",
    "            place['street'] = s[0]\n",
    "            place['city'] = s[1]\n",
    "            place['state'] = s2[0]\n",
    "            place['zip code'] = s2[1]\n",
    "            place['avg rating'] = result['rating']\n",
    "            place['total ratings'] = result['user_ratings_total']\n",
    "            place['price level'] = result['price_level']\n",
    "            place['date'] = date\n",
    "            place['hour'] = hour\n",
    "            places.append(place)\n",
    "            i+=1\n",
    "        \n",
    "        except (KeyError, IndexError) as e:\n",
    "            if str(e) == \"'price_level'\":\n",
    "                place['price level'] = \"NA\"                  \n",
    "                places.append(place)\n",
    "                print(f'Missing field/result... set NA. {str(e)}, listing {i}')\n",
    "                i+=1\n",
    "            else:\n",
    "                print(f'Missing field/result... skipping. {str(e)}')        \n",
    "    return places"
   ]
  },
  {
   "cell_type": "code",
   "execution_count": 10,
   "metadata": {},
   "outputs": [
    {
     "ename": "NameError",
     "evalue": "name 'response_json2' is not defined",
     "output_type": "error",
     "traceback": [
      "\u001b[1;31m---------------------------------------------------------------------------\u001b[0m",
      "\u001b[1;31mNameError\u001b[0m                                 Traceback (most recent call last)",
      "\u001b[1;32m<ipython-input-10-dd3de0b6855b>\u001b[0m in \u001b[0;36m<module>\u001b[1;34m\u001b[0m\n\u001b[0;32m      1\u001b[0m \u001b[1;31m# call get place function for each response\u001b[0m\u001b[1;33m\u001b[0m\u001b[1;33m\u001b[0m\u001b[1;33m\u001b[0m\u001b[0m\n\u001b[0;32m      2\u001b[0m \u001b[0mdf_places1\u001b[0m \u001b[1;33m=\u001b[0m \u001b[0mpd\u001b[0m\u001b[1;33m.\u001b[0m\u001b[0mDataFrame\u001b[0m\u001b[1;33m(\u001b[0m\u001b[0mgetPlaces\u001b[0m\u001b[1;33m(\u001b[0m\u001b[0mresponse_json\u001b[0m\u001b[1;33m,\u001b[0m\u001b[1;36m0\u001b[0m\u001b[1;33m,\u001b[0m\u001b[0mdate\u001b[0m\u001b[1;33m,\u001b[0m\u001b[0mhour\u001b[0m\u001b[1;33m)\u001b[0m\u001b[1;33m)\u001b[0m\u001b[1;33m\u001b[0m\u001b[1;33m\u001b[0m\u001b[0m\n\u001b[1;32m----> 3\u001b[1;33m \u001b[0mdf_places2\u001b[0m \u001b[1;33m=\u001b[0m \u001b[0mpd\u001b[0m\u001b[1;33m.\u001b[0m\u001b[0mDataFrame\u001b[0m\u001b[1;33m(\u001b[0m\u001b[0mgetPlaces\u001b[0m\u001b[1;33m(\u001b[0m\u001b[0mresponse_json2\u001b[0m\u001b[1;33m,\u001b[0m\u001b[0mlen\u001b[0m\u001b[1;33m(\u001b[0m\u001b[0mdf_places1\u001b[0m\u001b[1;33m)\u001b[0m\u001b[1;33m,\u001b[0m\u001b[0mdate\u001b[0m\u001b[1;33m,\u001b[0m\u001b[0mhour\u001b[0m\u001b[1;33m)\u001b[0m\u001b[1;33m)\u001b[0m\u001b[1;33m\u001b[0m\u001b[1;33m\u001b[0m\u001b[0m\n\u001b[0m\u001b[0;32m      4\u001b[0m \u001b[0mdf_places3\u001b[0m \u001b[1;33m=\u001b[0m \u001b[0mpd\u001b[0m\u001b[1;33m.\u001b[0m\u001b[0mDataFrame\u001b[0m\u001b[1;33m(\u001b[0m\u001b[0mgetPlaces\u001b[0m\u001b[1;33m(\u001b[0m\u001b[0mresponse_json3\u001b[0m\u001b[1;33m,\u001b[0m\u001b[1;33m(\u001b[0m\u001b[0mlen\u001b[0m\u001b[1;33m(\u001b[0m\u001b[0mdf_places1\u001b[0m\u001b[1;33m)\u001b[0m\u001b[1;33m+\u001b[0m\u001b[0mlen\u001b[0m\u001b[1;33m(\u001b[0m\u001b[0mdf_places2\u001b[0m\u001b[1;33m)\u001b[0m\u001b[1;33m)\u001b[0m\u001b[1;33m,\u001b[0m\u001b[0mdate\u001b[0m\u001b[1;33m,\u001b[0m\u001b[0mhour\u001b[0m\u001b[1;33m)\u001b[0m\u001b[1;33m)\u001b[0m\u001b[1;33m\u001b[0m\u001b[1;33m\u001b[0m\u001b[0m\n",
      "\u001b[1;31mNameError\u001b[0m: name 'response_json2' is not defined"
     ]
    }
   ],
   "source": [
    "# call get place function for each response\n",
    "df_places1 = pd.DataFrame(getPlaces(response_json,0,date,hour))\n",
    "df_places2 = pd.DataFrame(getPlaces(response_json2,len(df_places1),date,hour))\n",
    "df_places3 = pd.DataFrame(getPlaces(response_json3,(len(df_places1)+len(df_places2)),date,hour))"
   ]
  },
  {
   "cell_type": "code",
   "execution_count": 11,
   "metadata": {},
   "outputs": [
    {
     "ename": "NameError",
     "evalue": "name 'df_places2' is not defined",
     "output_type": "error",
     "traceback": [
      "\u001b[1;31m---------------------------------------------------------------------------\u001b[0m",
      "\u001b[1;31mNameError\u001b[0m                                 Traceback (most recent call last)",
      "\u001b[1;32m<ipython-input-11-1ab85316589a>\u001b[0m in \u001b[0;36m<module>\u001b[1;34m\u001b[0m\n\u001b[0;32m      1\u001b[0m \u001b[1;31m# Concatenate all 3 API responses\u001b[0m\u001b[1;33m\u001b[0m\u001b[1;33m\u001b[0m\u001b[1;33m\u001b[0m\u001b[0m\n\u001b[1;32m----> 2\u001b[1;33m \u001b[0mdf_places\u001b[0m \u001b[1;33m=\u001b[0m \u001b[0mpd\u001b[0m\u001b[1;33m.\u001b[0m\u001b[0mconcat\u001b[0m\u001b[1;33m(\u001b[0m\u001b[1;33m[\u001b[0m\u001b[0mdf_places1\u001b[0m\u001b[1;33m,\u001b[0m \u001b[0mdf_places2\u001b[0m\u001b[1;33m,\u001b[0m \u001b[0mdf_places3\u001b[0m\u001b[1;33m]\u001b[0m\u001b[1;33m,\u001b[0m \u001b[0maxis\u001b[0m\u001b[1;33m=\u001b[0m\u001b[1;36m0\u001b[0m\u001b[1;33m)\u001b[0m\u001b[1;33m\u001b[0m\u001b[1;33m\u001b[0m\u001b[0m\n\u001b[0m\u001b[0;32m      3\u001b[0m \u001b[0mdf_places\u001b[0m \u001b[1;33m=\u001b[0m \u001b[0mdf_places\u001b[0m\u001b[1;33m.\u001b[0m\u001b[0mreset_index\u001b[0m\u001b[1;33m(\u001b[0m\u001b[0mdrop\u001b[0m\u001b[1;33m=\u001b[0m\u001b[1;32mTrue\u001b[0m\u001b[1;33m)\u001b[0m\u001b[1;33m\u001b[0m\u001b[1;33m\u001b[0m\u001b[0m\n\u001b[0;32m      4\u001b[0m \u001b[0mdf_places\u001b[0m\u001b[1;33m.\u001b[0m\u001b[0mhead\u001b[0m\u001b[1;33m(\u001b[0m\u001b[1;36m10\u001b[0m\u001b[1;33m)\u001b[0m\u001b[1;33m\u001b[0m\u001b[1;33m\u001b[0m\u001b[0m\n",
      "\u001b[1;31mNameError\u001b[0m: name 'df_places2' is not defined"
     ]
    }
   ],
   "source": [
    "# Concatenate all 3 API responses\n",
    "df_places = pd.concat([df_places1, df_places2, df_places3], axis=0)\n",
    "df_places = df_places.reset_index(drop=True)\n",
    "df_places.head(10)"
   ]
  },
  {
   "cell_type": "code",
   "execution_count": 12,
   "metadata": {},
   "outputs": [
    {
     "ename": "NameError",
     "evalue": "name 'df_places' is not defined",
     "output_type": "error",
     "traceback": [
      "\u001b[1;31m---------------------------------------------------------------------------\u001b[0m",
      "\u001b[1;31mNameError\u001b[0m                                 Traceback (most recent call last)",
      "\u001b[1;32m<ipython-input-12-ca55f250d78d>\u001b[0m in \u001b[0;36m<module>\u001b[1;34m\u001b[0m\n\u001b[0;32m      1\u001b[0m \u001b[1;31m# sorted dataframe by total ratings\u001b[0m\u001b[1;33m\u001b[0m\u001b[1;33m\u001b[0m\u001b[1;33m\u001b[0m\u001b[0m\n\u001b[1;32m----> 2\u001b[1;33m \u001b[0mdf_ratings\u001b[0m \u001b[1;33m=\u001b[0m \u001b[0mdf_places\u001b[0m\u001b[1;33m.\u001b[0m\u001b[0msort_values\u001b[0m\u001b[1;33m(\u001b[0m\u001b[0mby\u001b[0m\u001b[1;33m=\u001b[0m\u001b[1;34m'total ratings'\u001b[0m\u001b[1;33m,\u001b[0m \u001b[0mascending\u001b[0m\u001b[1;33m=\u001b[0m\u001b[1;32mFalse\u001b[0m\u001b[1;33m)\u001b[0m\u001b[1;33m\u001b[0m\u001b[1;33m\u001b[0m\u001b[0m\n\u001b[0m\u001b[0;32m      3\u001b[0m \u001b[0mdf_ratings\u001b[0m \u001b[1;33m=\u001b[0m \u001b[0mdf_ratings\u001b[0m\u001b[1;33m.\u001b[0m\u001b[0mreset_index\u001b[0m\u001b[1;33m(\u001b[0m\u001b[0mdrop\u001b[0m\u001b[1;33m=\u001b[0m\u001b[1;32mTrue\u001b[0m\u001b[1;33m)\u001b[0m\u001b[1;33m\u001b[0m\u001b[1;33m\u001b[0m\u001b[0m\n\u001b[0;32m      4\u001b[0m \u001b[0mdf_ratings\u001b[0m\u001b[1;33m.\u001b[0m\u001b[0mhead\u001b[0m\u001b[1;33m(\u001b[0m\u001b[1;36m10\u001b[0m\u001b[1;33m)\u001b[0m\u001b[1;33m\u001b[0m\u001b[1;33m\u001b[0m\u001b[0m\n",
      "\u001b[1;31mNameError\u001b[0m: name 'df_places' is not defined"
     ]
    }
   ],
   "source": [
    "# sorted dataframe by total ratings\n",
    "df_ratings = df_places.sort_values(by='total ratings', ascending=False)\n",
    "df_ratings = df_ratings.reset_index(drop=True)\n",
    "df_ratings.head(10)"
   ]
  },
  {
   "cell_type": "code",
   "execution_count": 13,
   "metadata": {},
   "outputs": [
    {
     "ename": "NameError",
     "evalue": "name 'df_ratings' is not defined",
     "output_type": "error",
     "traceback": [
      "\u001b[1;31m---------------------------------------------------------------------------\u001b[0m",
      "\u001b[1;31mNameError\u001b[0m                                 Traceback (most recent call last)",
      "\u001b[1;32m<ipython-input-13-3a5ff473f9b8>\u001b[0m in \u001b[0;36m<module>\u001b[1;34m\u001b[0m\n\u001b[0;32m      1\u001b[0m \u001b[1;31m#create specific columns from df\u001b[0m\u001b[1;33m\u001b[0m\u001b[1;33m\u001b[0m\u001b[1;33m\u001b[0m\u001b[0m\n\u001b[0;32m      2\u001b[0m \u001b[0mratings_columns\u001b[0m \u001b[1;33m=\u001b[0m \u001b[1;33m[\u001b[0m\u001b[1;34m\"id\"\u001b[0m\u001b[1;33m,\u001b[0m \u001b[1;34m\"name\"\u001b[0m\u001b[1;33m,\u001b[0m \u001b[1;34m\"street\"\u001b[0m\u001b[1;33m,\u001b[0m \u001b[1;34m\"city\"\u001b[0m\u001b[1;33m,\u001b[0m \u001b[1;34m\"state\"\u001b[0m\u001b[1;33m,\u001b[0m \u001b[1;34m\"zip code\"\u001b[0m\u001b[1;33m,\u001b[0m \u001b[1;34m\"avg ratings\"\u001b[0m\u001b[1;33m,\u001b[0m \u001b[1;34m\"total ratings\"\u001b[0m\u001b[1;33m,\u001b[0m \u001b[1;34m\"price level\"\u001b[0m\u001b[1;33m,\u001b[0m \u001b[1;34m\"date\"\u001b[0m\u001b[1;33m,\u001b[0m \u001b[1;34m\"hour\"\u001b[0m\u001b[1;33m]\u001b[0m\u001b[1;33m\u001b[0m\u001b[1;33m\u001b[0m\u001b[0m\n\u001b[1;32m----> 3\u001b[1;33m \u001b[0mratings_transformed\u001b[0m \u001b[1;33m=\u001b[0m \u001b[0mdf_ratings\u001b[0m\u001b[1;33m[\u001b[0m\u001b[0mratings_columns\u001b[0m\u001b[1;33m]\u001b[0m\u001b[1;33m.\u001b[0m\u001b[0mcopy\u001b[0m\u001b[1;33m(\u001b[0m\u001b[1;33m)\u001b[0m\u001b[1;33m\u001b[0m\u001b[1;33m\u001b[0m\u001b[0m\n\u001b[0m\u001b[0;32m      4\u001b[0m \u001b[1;33m\u001b[0m\u001b[0m\n\u001b[0;32m      5\u001b[0m \u001b[1;31m#Rename the column headers\u001b[0m\u001b[1;33m\u001b[0m\u001b[1;33m\u001b[0m\u001b[1;33m\u001b[0m\u001b[0m\n",
      "\u001b[1;31mNameError\u001b[0m: name 'df_ratings' is not defined"
     ]
    }
   ],
   "source": [
    "#create specific columns from df\n",
    "ratings_columns = [\"id\", \"name\", \"street\", \"city\", \"state\", \"zip code\", \"avg ratings\", \"total ratings\", \"price level\", \"date\", \"hour\"]\n",
    "ratings_transformed = df_ratings[ratings_columns].copy()\n",
    "\n",
    "#Rename the column headers\n",
    "ratings_transformed = ratings_transformed.rename(columns={\"id\": \"ID\",\n",
    "                                                         \"name\": \"Restaurant Name\",\n",
    "                                                         \"street\": \"Street Address\",\n",
    "                                                         \"city\": \"City\", \n",
    "                                                         \"state\": \"State\", \n",
    "                                                         \"zip code\": \"Zip Code\", \n",
    "                                                         \"avg ratings\": \"Avg Ratings\", \n",
    "                                                         \"total ratings\": \"Total Ratings\", \n",
    "                                                         \"price level\": \"Price Level\",\n",
    "                                                         \"date\": \"Date\",\n",
    "                                                         \"hour\": \"Hour\"})\n",
    "\n",
    "# Clean the data by dropping duplicates and setting the index\n",
    "#ratings_transformed.drop_duplicates(\"id\", inplace=True)\n",
    "ratings_transformed.set_index(\"id\", inplace=True)\n",
    "\n",
    "ratings_transformed.head()"
   ]
  },
  {
   "cell_type": "code",
   "execution_count": null,
   "metadata": {},
   "outputs": [],
   "source": []
  },
  {
   "cell_type": "code",
   "execution_count": null,
   "metadata": {},
   "outputs": [],
   "source": []
  }
 ],
 "metadata": {
  "kernelspec": {
   "display_name": "Python 3",
   "language": "python",
   "name": "python3"
  },
  "language_info": {
   "codemirror_mode": {
    "name": "ipython",
    "version": 3
   },
   "file_extension": ".py",
   "mimetype": "text/x-python",
   "name": "python",
   "nbconvert_exporter": "python",
   "pygments_lexer": "ipython3",
   "version": "3.7.6"
  }
 },
 "nbformat": 4,
 "nbformat_minor": 4
}
